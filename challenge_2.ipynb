{
  "cells": [
    {
      "cell_type": "markdown",
      "id": "cc035a8c",
      "metadata": {
        "id": "cc035a8c"
      },
      "source": [
        "<a target=\"_blank\" href=\"https://colab.research.google.com/github/eeg2025/startkit/blob/main/challenge_2.ipynb\"><img src=\"https://colab.research.google.com/assets/colab-badge.svg\" alt=\"Open In Colab\"/></a>"
      ]
    },
    {
      "cell_type": "markdown",
      "id": "01bb24fa",
      "metadata": {
        "id": "01bb24fa"
      },
      "source": [
        "# Challenge 2: Predicting the externalizing factor from EEG\n",
        "\n",
        "The externalizing factor is a widely recognized construct in mental health research, representing a common underlying dimension of psychopathology across various disorders.\n",
        "Currently, the externalizing factor is often assessed using self-report questionnaires or clinician ratings, which can be subjective, prone to bias, and time-consuming.\n",
        "**The Challenge 2** consists of developing a model to predict the externalizing factor from EEG recordings.\n",
        "\n",
        "The challenge encourages learning physiologically meaningful signal representations and discovery of reproducible biomarkers.\n",
        "Models of any size should emphasize robust, interpretable features that generalize across subjects,\n",
        "sessions, and acquisition sites.\n",
        "\n",
        "Unlike a standard in-distribution classification task, this regression problem stresses out-of-distribution robustness\n",
        "and extrapolation. The goal is not only to minimize error on seen subjects, but also to transfer effectively to unseen data.\n",
        "\n",
        "Ensure the dataset is available locally. If not, see the [dataset download guide](https://eeg2025.github.io/data/#downloading-the-data)"
      ]
    },
    {
      "cell_type": "markdown",
      "id": "b1ed11ed",
      "metadata": {
        "id": "b1ed11ed"
      },
      "source": [
        "## Contents of this start kit\n",
        "\n",
        "0. Understand the externalizing factor regression task.\n",
        "1. Loading the data.\n",
        "2. Wrap the data into a PyTorch-compatible dataset.\n",
        "3. Define, train and save a model.\n",
        "\n",
        "> **Note:** If you need additional explanations on the [`EEGChallengeDataset`](https://eeglab.org/EEGDash/api/eegdash.html#eegdash.EEGChallengeDataset) class, dataloading, [`braindecode`](https://braindecode.org/stable/models/models_table.html)'s deep learning models, or brain decoding in general, please refer to the start-kit of challenge 1 which delves deeper into these topics.\n",
        "\n",
        "More contents will be released during the competition inside the [`eegdash`](https://eeglab.org/EEGDash/overview.html) [examples webpage](https://eeglab.org/EEGDash/generated/auto_examples/index.html).\n",
        "\n",
        "We will establish direct communication channels with you over the next two months, resolve platform issues, and discuss other details.\n",
        "\n",
        "We are going to do weekly one-hour support time to help teams that may have difficulties with any technical aspects that may arise.\n",
        "\n",
        "We will have closer communication starting next week, 08/09/2025.\n",
        "\n",
        "Before we begin, I just want to make a deal with you, ok?\n",
        "\n",
        "This is a community competition with a strong open-source foundation. When I say open-source, I mean volunteer work.\n",
        "\n",
        "So, if you see something that does not work or could be improved, first, **please be kind**, and we will fix it together on GitHub, okay?\n",
        "\n",
        "The entire decoding community will only go further when we stop solving the same problems over and over again, and start working together."
      ]
    },
    {
      "cell_type": "markdown",
      "id": "6501c7f9",
      "metadata": {
        "id": "6501c7f9"
      },
      "source": [
        "----\n",
        "| The tutorial assumes some prior knowledge of deep learning concepts and EEG concepts:|\n",
        "| --- |\n",
        "|* Standard neural network architectures, e.g., convolutional neural networks|\n",
        "|* Optimization by batch gradient descent and backpropagation|\n",
        "|* Overfitting, early stopping, regularisation |\n",
        "|* Some knowledge of pytorch and, optionally, of the pytorch Lightning framework|\n",
        "|* That you know what EEG is |\n",
        "|* That you have basic familiarity with EEG preprocessing |\n",
        "|* Like and support open-source :) |\n",
        "----"
      ]
    },
    {
      "cell_type": "code",
      "execution_count": 1,
      "id": "5025d0d1",
      "metadata": {
        "tags": [
          "hide-input"
        ],
        "title": "Install dependencies on colab [code]",
        "id": "5025d0d1",
        "outputId": "cc54b611-7c1a-4b69-8485-2d27d9e7cd71",
        "colab": {
          "base_uri": "https://localhost:8080/"
        }
      },
      "outputs": [
        {
          "output_type": "stream",
          "name": "stdout",
          "text": [
            "Collecting braindecode\n",
            "  Downloading braindecode-1.2.0-py3-none-any.whl.metadata (7.1 kB)\n",
            "Collecting mne>=1.10.0 (from braindecode)\n",
            "  Downloading mne-1.10.2-py3-none-any.whl.metadata (21 kB)\n",
            "Collecting mne_bids>=0.16 (from braindecode)\n",
            "  Downloading mne_bids-0.17.0-py3-none-any.whl.metadata (7.3 kB)\n",
            "Requirement already satisfied: numpy in /usr/local/lib/python3.12/dist-packages (from braindecode) (2.0.2)\n",
            "Requirement already satisfied: pandas in /usr/local/lib/python3.12/dist-packages (from braindecode) (2.2.2)\n",
            "Requirement already satisfied: scipy in /usr/local/lib/python3.12/dist-packages (from braindecode) (1.16.2)\n",
            "Requirement already satisfied: matplotlib in /usr/local/lib/python3.12/dist-packages (from braindecode) (3.10.0)\n",
            "Requirement already satisfied: h5py in /usr/local/lib/python3.12/dist-packages (from braindecode) (3.15.0)\n",
            "Collecting skorch>=1.2.0 (from braindecode)\n",
            "  Downloading skorch-1.2.0-py3-none-any.whl.metadata (11 kB)\n",
            "Requirement already satisfied: torch<3.0,>=2.0 in /usr/local/lib/python3.12/dist-packages (from braindecode) (2.8.0+cu126)\n",
            "Requirement already satisfied: torchaudio<3.0,>=2.0 in /usr/local/lib/python3.12/dist-packages (from braindecode) (2.8.0+cu126)\n",
            "Requirement already satisfied: einops in /usr/local/lib/python3.12/dist-packages (from braindecode) (0.8.1)\n",
            "Requirement already satisfied: joblib in /usr/local/lib/python3.12/dist-packages (from braindecode) (1.5.2)\n",
            "Collecting torchinfo~=1.8 (from braindecode)\n",
            "  Downloading torchinfo-1.8.0-py3-none-any.whl.metadata (21 kB)\n",
            "Collecting wfdb (from braindecode)\n",
            "  Downloading wfdb-4.3.0-py3-none-any.whl.metadata (3.8 kB)\n",
            "Collecting linear_attention_transformer (from braindecode)\n",
            "  Downloading linear_attention_transformer-0.19.1-py3-none-any.whl.metadata (787 bytes)\n",
            "Collecting docstring_inheritance (from braindecode)\n",
            "  Downloading docstring_inheritance-2.2.2-py3-none-any.whl.metadata (11 kB)\n",
            "Requirement already satisfied: decorator in /usr/local/lib/python3.12/dist-packages (from mne>=1.10.0->braindecode) (4.4.2)\n",
            "Requirement already satisfied: jinja2 in /usr/local/lib/python3.12/dist-packages (from mne>=1.10.0->braindecode) (3.1.6)\n",
            "Requirement already satisfied: lazy-loader>=0.3 in /usr/local/lib/python3.12/dist-packages (from mne>=1.10.0->braindecode) (0.4)\n",
            "Requirement already satisfied: packaging in /usr/local/lib/python3.12/dist-packages (from mne>=1.10.0->braindecode) (25.0)\n",
            "Requirement already satisfied: pooch>=1.5 in /usr/local/lib/python3.12/dist-packages (from mne>=1.10.0->braindecode) (1.8.2)\n",
            "Requirement already satisfied: tqdm in /usr/local/lib/python3.12/dist-packages (from mne>=1.10.0->braindecode) (4.67.1)\n",
            "Requirement already satisfied: contourpy>=1.0.1 in /usr/local/lib/python3.12/dist-packages (from matplotlib->braindecode) (1.3.3)\n",
            "Requirement already satisfied: cycler>=0.10 in /usr/local/lib/python3.12/dist-packages (from matplotlib->braindecode) (0.12.1)\n",
            "Requirement already satisfied: fonttools>=4.22.0 in /usr/local/lib/python3.12/dist-packages (from matplotlib->braindecode) (4.60.1)\n",
            "Requirement already satisfied: kiwisolver>=1.3.1 in /usr/local/lib/python3.12/dist-packages (from matplotlib->braindecode) (1.4.9)\n",
            "Requirement already satisfied: pillow>=8 in /usr/local/lib/python3.12/dist-packages (from matplotlib->braindecode) (11.3.0)\n",
            "Requirement already satisfied: pyparsing>=2.3.1 in /usr/local/lib/python3.12/dist-packages (from matplotlib->braindecode) (3.2.5)\n",
            "Requirement already satisfied: python-dateutil>=2.7 in /usr/local/lib/python3.12/dist-packages (from matplotlib->braindecode) (2.9.0.post0)\n",
            "Requirement already satisfied: scikit-learn>=0.22.0 in /usr/local/lib/python3.12/dist-packages (from skorch>=1.2.0->braindecode) (1.6.1)\n",
            "Requirement already satisfied: tabulate>=0.7.7 in /usr/local/lib/python3.12/dist-packages (from skorch>=1.2.0->braindecode) (0.9.0)\n",
            "Requirement already satisfied: filelock in /usr/local/lib/python3.12/dist-packages (from torch<3.0,>=2.0->braindecode) (3.20.0)\n",
            "Requirement already satisfied: typing-extensions>=4.10.0 in /usr/local/lib/python3.12/dist-packages (from torch<3.0,>=2.0->braindecode) (4.15.0)\n",
            "Requirement already satisfied: setuptools in /usr/local/lib/python3.12/dist-packages (from torch<3.0,>=2.0->braindecode) (75.2.0)\n",
            "Requirement already satisfied: sympy>=1.13.3 in /usr/local/lib/python3.12/dist-packages (from torch<3.0,>=2.0->braindecode) (1.13.3)\n",
            "Requirement already satisfied: networkx in /usr/local/lib/python3.12/dist-packages (from torch<3.0,>=2.0->braindecode) (3.5)\n",
            "Requirement already satisfied: fsspec in /usr/local/lib/python3.12/dist-packages (from torch<3.0,>=2.0->braindecode) (2025.3.0)\n",
            "Requirement already satisfied: nvidia-cuda-nvrtc-cu12==12.6.77 in /usr/local/lib/python3.12/dist-packages (from torch<3.0,>=2.0->braindecode) (12.6.77)\n",
            "Requirement already satisfied: nvidia-cuda-runtime-cu12==12.6.77 in /usr/local/lib/python3.12/dist-packages (from torch<3.0,>=2.0->braindecode) (12.6.77)\n",
            "Requirement already satisfied: nvidia-cuda-cupti-cu12==12.6.80 in /usr/local/lib/python3.12/dist-packages (from torch<3.0,>=2.0->braindecode) (12.6.80)\n",
            "Requirement already satisfied: nvidia-cudnn-cu12==9.10.2.21 in /usr/local/lib/python3.12/dist-packages (from torch<3.0,>=2.0->braindecode) (9.10.2.21)\n",
            "Requirement already satisfied: nvidia-cublas-cu12==12.6.4.1 in /usr/local/lib/python3.12/dist-packages (from torch<3.0,>=2.0->braindecode) (12.6.4.1)\n",
            "Requirement already satisfied: nvidia-cufft-cu12==11.3.0.4 in /usr/local/lib/python3.12/dist-packages (from torch<3.0,>=2.0->braindecode) (11.3.0.4)\n",
            "Requirement already satisfied: nvidia-curand-cu12==10.3.7.77 in /usr/local/lib/python3.12/dist-packages (from torch<3.0,>=2.0->braindecode) (10.3.7.77)\n",
            "Requirement already satisfied: nvidia-cusolver-cu12==11.7.1.2 in /usr/local/lib/python3.12/dist-packages (from torch<3.0,>=2.0->braindecode) (11.7.1.2)\n",
            "Requirement already satisfied: nvidia-cusparse-cu12==12.5.4.2 in /usr/local/lib/python3.12/dist-packages (from torch<3.0,>=2.0->braindecode) (12.5.4.2)\n",
            "Requirement already satisfied: nvidia-cusparselt-cu12==0.7.1 in /usr/local/lib/python3.12/dist-packages (from torch<3.0,>=2.0->braindecode) (0.7.1)\n",
            "Requirement already satisfied: nvidia-nccl-cu12==2.27.3 in /usr/local/lib/python3.12/dist-packages (from torch<3.0,>=2.0->braindecode) (2.27.3)\n",
            "Requirement already satisfied: nvidia-nvtx-cu12==12.6.77 in /usr/local/lib/python3.12/dist-packages (from torch<3.0,>=2.0->braindecode) (12.6.77)\n",
            "Requirement already satisfied: nvidia-nvjitlink-cu12==12.6.85 in /usr/local/lib/python3.12/dist-packages (from torch<3.0,>=2.0->braindecode) (12.6.85)\n",
            "Requirement already satisfied: nvidia-cufile-cu12==1.11.1.6 in /usr/local/lib/python3.12/dist-packages (from torch<3.0,>=2.0->braindecode) (1.11.1.6)\n",
            "Requirement already satisfied: triton==3.4.0 in /usr/local/lib/python3.12/dist-packages (from torch<3.0,>=2.0->braindecode) (3.4.0)\n",
            "Collecting axial-positional-embedding (from linear_attention_transformer->braindecode)\n",
            "  Downloading axial_positional_embedding-0.3.12-py3-none-any.whl.metadata (4.3 kB)\n",
            "Collecting linformer>=0.1.0 (from linear_attention_transformer->braindecode)\n",
            "  Downloading linformer-0.2.3-py3-none-any.whl.metadata (602 bytes)\n",
            "Collecting local-attention (from linear_attention_transformer->braindecode)\n",
            "  Downloading local_attention-1.11.2-py3-none-any.whl.metadata (929 bytes)\n",
            "Collecting product-key-memory>=0.1.5 (from linear_attention_transformer->braindecode)\n",
            "  Downloading product_key_memory-0.2.11-py3-none-any.whl.metadata (717 bytes)\n",
            "Requirement already satisfied: pytz>=2020.1 in /usr/local/lib/python3.12/dist-packages (from pandas->braindecode) (2025.2)\n",
            "Requirement already satisfied: tzdata>=2022.7 in /usr/local/lib/python3.12/dist-packages (from pandas->braindecode) (2025.2)\n",
            "Requirement already satisfied: aiohttp>=3.10.11 in /usr/local/lib/python3.12/dist-packages (from wfdb->braindecode) (3.13.0)\n",
            "Collecting pandas (from braindecode)\n",
            "  Downloading pandas-2.3.3-cp312-cp312-manylinux_2_24_x86_64.manylinux_2_28_x86_64.whl.metadata (91 kB)\n",
            "\u001b[2K     \u001b[90m━━━━━━━━━━━━━━━━━━━━━━━━━━━━━━━━━━━━━━━━\u001b[0m \u001b[32m91.2/91.2 kB\u001b[0m \u001b[31m3.5 MB/s\u001b[0m eta \u001b[36m0:00:00\u001b[0m\n",
            "\u001b[?25hRequirement already satisfied: requests>=2.8.1 in /usr/local/lib/python3.12/dist-packages (from wfdb->braindecode) (2.32.4)\n",
            "Requirement already satisfied: soundfile>=0.10.0 in /usr/local/lib/python3.12/dist-packages (from wfdb->braindecode) (0.13.1)\n",
            "Requirement already satisfied: aiohappyeyeballs>=2.5.0 in /usr/local/lib/python3.12/dist-packages (from aiohttp>=3.10.11->wfdb->braindecode) (2.6.1)\n",
            "Requirement already satisfied: aiosignal>=1.4.0 in /usr/local/lib/python3.12/dist-packages (from aiohttp>=3.10.11->wfdb->braindecode) (1.4.0)\n",
            "Requirement already satisfied: attrs>=17.3.0 in /usr/local/lib/python3.12/dist-packages (from aiohttp>=3.10.11->wfdb->braindecode) (25.4.0)\n",
            "Requirement already satisfied: frozenlist>=1.1.1 in /usr/local/lib/python3.12/dist-packages (from aiohttp>=3.10.11->wfdb->braindecode) (1.8.0)\n",
            "Requirement already satisfied: multidict<7.0,>=4.5 in /usr/local/lib/python3.12/dist-packages (from aiohttp>=3.10.11->wfdb->braindecode) (6.7.0)\n",
            "Requirement already satisfied: propcache>=0.2.0 in /usr/local/lib/python3.12/dist-packages (from aiohttp>=3.10.11->wfdb->braindecode) (0.4.1)\n",
            "Requirement already satisfied: yarl<2.0,>=1.17.0 in /usr/local/lib/python3.12/dist-packages (from aiohttp>=3.10.11->wfdb->braindecode) (1.22.0)\n",
            "Requirement already satisfied: platformdirs>=2.5.0 in /usr/local/lib/python3.12/dist-packages (from pooch>=1.5->mne>=1.10.0->braindecode) (4.5.0)\n",
            "Collecting colt5-attention>=0.10.14 (from product-key-memory>=0.1.5->linear_attention_transformer->braindecode)\n",
            "  Downloading CoLT5_attention-0.11.1-py3-none-any.whl.metadata (737 bytes)\n",
            "Requirement already satisfied: six>=1.5 in /usr/local/lib/python3.12/dist-packages (from python-dateutil>=2.7->matplotlib->braindecode) (1.17.0)\n",
            "Requirement already satisfied: charset_normalizer<4,>=2 in /usr/local/lib/python3.12/dist-packages (from requests>=2.8.1->wfdb->braindecode) (3.4.4)\n",
            "Requirement already satisfied: idna<4,>=2.5 in /usr/local/lib/python3.12/dist-packages (from requests>=2.8.1->wfdb->braindecode) (3.11)\n",
            "Requirement already satisfied: urllib3<3,>=1.21.1 in /usr/local/lib/python3.12/dist-packages (from requests>=2.8.1->wfdb->braindecode) (2.5.0)\n",
            "Requirement already satisfied: certifi>=2017.4.17 in /usr/local/lib/python3.12/dist-packages (from requests>=2.8.1->wfdb->braindecode) (2025.10.5)\n",
            "Requirement already satisfied: threadpoolctl>=3.1.0 in /usr/local/lib/python3.12/dist-packages (from scikit-learn>=0.22.0->skorch>=1.2.0->braindecode) (3.6.0)\n",
            "Requirement already satisfied: cffi>=1.0 in /usr/local/lib/python3.12/dist-packages (from soundfile>=0.10.0->wfdb->braindecode) (2.0.0)\n",
            "Requirement already satisfied: mpmath<1.4,>=1.1.0 in /usr/local/lib/python3.12/dist-packages (from sympy>=1.13.3->torch<3.0,>=2.0->braindecode) (1.3.0)\n",
            "Requirement already satisfied: MarkupSafe>=2.0 in /usr/local/lib/python3.12/dist-packages (from jinja2->mne>=1.10.0->braindecode) (3.0.3)\n",
            "Collecting hyper-connections>=0.1.8 (from local-attention->linear_attention_transformer->braindecode)\n",
            "  Downloading hyper_connections-0.2.1-py3-none-any.whl.metadata (6.0 kB)\n",
            "Requirement already satisfied: pycparser in /usr/local/lib/python3.12/dist-packages (from cffi>=1.0->soundfile>=0.10.0->wfdb->braindecode) (2.23)\n",
            "Downloading braindecode-1.2.0-py3-none-any.whl (305 kB)\n",
            "\u001b[2K   \u001b[90m━━━━━━━━━━━━━━━━━━━━━━━━━━━━━━━━━━━━━━━━\u001b[0m \u001b[32m305.2/305.2 kB\u001b[0m \u001b[31m11.8 MB/s\u001b[0m eta \u001b[36m0:00:00\u001b[0m\n",
            "\u001b[?25hDownloading mne-1.10.2-py3-none-any.whl (7.4 MB)\n",
            "\u001b[2K   \u001b[90m━━━━━━━━━━━━━━━━━━━━━━━━━━━━━━━━━━━━━━━━\u001b[0m \u001b[32m7.4/7.4 MB\u001b[0m \u001b[31m92.7 MB/s\u001b[0m eta \u001b[36m0:00:00\u001b[0m\n",
            "\u001b[?25hDownloading mne_bids-0.17.0-py3-none-any.whl (168 kB)\n",
            "\u001b[2K   \u001b[90m━━━━━━━━━━━━━━━━━━━━━━━━━━━━━━━━━━━━━━━━\u001b[0m \u001b[32m168.9/168.9 kB\u001b[0m \u001b[31m10.3 MB/s\u001b[0m eta \u001b[36m0:00:00\u001b[0m\n",
            "\u001b[?25hDownloading skorch-1.2.0-py3-none-any.whl (263 kB)\n",
            "\u001b[2K   \u001b[90m━━━━━━━━━━━━━━━━━━━━━━━━━━━━━━━━━━━━━━━━\u001b[0m \u001b[32m263.1/263.1 kB\u001b[0m \u001b[31m15.2 MB/s\u001b[0m eta \u001b[36m0:00:00\u001b[0m\n",
            "\u001b[?25hDownloading torchinfo-1.8.0-py3-none-any.whl (23 kB)\n",
            "Downloading docstring_inheritance-2.2.2-py3-none-any.whl (24 kB)\n",
            "Downloading linear_attention_transformer-0.19.1-py3-none-any.whl (12 kB)\n",
            "Downloading wfdb-4.3.0-py3-none-any.whl (163 kB)\n",
            "\u001b[2K   \u001b[90m━━━━━━━━━━━━━━━━━━━━━━━━━━━━━━━━━━━━━━━━\u001b[0m \u001b[32m163.8/163.8 kB\u001b[0m \u001b[31m8.2 MB/s\u001b[0m eta \u001b[36m0:00:00\u001b[0m\n",
            "\u001b[?25hDownloading pandas-2.3.3-cp312-cp312-manylinux_2_24_x86_64.manylinux_2_28_x86_64.whl (12.4 MB)\n",
            "\u001b[2K   \u001b[90m━━━━━━━━━━━━━━━━━━━━━━━━━━━━━━━━━━━━━━━━\u001b[0m \u001b[32m12.4/12.4 MB\u001b[0m \u001b[31m78.9 MB/s\u001b[0m eta \u001b[36m0:00:00\u001b[0m\n",
            "\u001b[?25hDownloading linformer-0.2.3-py3-none-any.whl (6.2 kB)\n",
            "Downloading product_key_memory-0.2.11-py3-none-any.whl (6.5 kB)\n",
            "Downloading axial_positional_embedding-0.3.12-py3-none-any.whl (6.7 kB)\n",
            "Downloading local_attention-1.11.2-py3-none-any.whl (9.5 kB)\n",
            "Downloading CoLT5_attention-0.11.1-py3-none-any.whl (18 kB)\n",
            "Downloading hyper_connections-0.2.1-py3-none-any.whl (16 kB)\n",
            "Installing collected packages: torchinfo, docstring_inheritance, pandas, wfdb, skorch, mne, mne_bids, linformer, hyper-connections, axial-positional-embedding, local-attention, colt5-attention, product-key-memory, linear_attention_transformer, braindecode\n",
            "  Attempting uninstall: pandas\n",
            "    Found existing installation: pandas 2.2.2\n",
            "    Uninstalling pandas-2.2.2:\n",
            "      Successfully uninstalled pandas-2.2.2\n",
            "\u001b[31mERROR: pip's dependency resolver does not currently take into account all the packages that are installed. This behaviour is the source of the following dependency conflicts.\n",
            "google-colab 1.0.0 requires pandas==2.2.2, but you have pandas 2.3.3 which is incompatible.\n",
            "dask-cudf-cu12 25.6.0 requires pandas<2.2.4dev0,>=2.0, but you have pandas 2.3.3 which is incompatible.\n",
            "cudf-cu12 25.6.0 requires pandas<2.2.4dev0,>=2.0, but you have pandas 2.3.3 which is incompatible.\u001b[0m\u001b[31m\n",
            "\u001b[0mSuccessfully installed axial-positional-embedding-0.3.12 braindecode-1.2.0 colt5-attention-0.11.1 docstring_inheritance-2.2.2 hyper-connections-0.2.1 linear_attention_transformer-0.19.1 linformer-0.2.3 local-attention-1.11.2 mne-1.10.2 mne_bids-0.17.0 pandas-2.3.3 product-key-memory-0.2.11 skorch-1.2.0 torchinfo-1.8.0 wfdb-4.3.0\n",
            "Collecting eegdash\n",
            "  Downloading eegdash-0.4.0-py3-none-any.whl.metadata (6.9 kB)\n",
            "Requirement already satisfied: braindecode>=1.0 in /usr/local/lib/python3.12/dist-packages (from eegdash) (1.2.0)\n",
            "Requirement already satisfied: mne_bids>=0.17.0 in /usr/local/lib/python3.12/dist-packages (from eegdash) (0.17.0)\n",
            "Requirement already satisfied: numba in /usr/local/lib/python3.12/dist-packages (from eegdash) (0.60.0)\n",
            "Requirement already satisfied: numpy in /usr/local/lib/python3.12/dist-packages (from eegdash) (2.0.2)\n",
            "Requirement already satisfied: pandas in /usr/local/lib/python3.12/dist-packages (from eegdash) (2.3.3)\n",
            "Collecting pymongo (from eegdash)\n",
            "  Downloading pymongo-4.15.3-cp312-cp312-manylinux2014_x86_64.manylinux_2_17_x86_64.manylinux_2_28_x86_64.whl.metadata (22 kB)\n",
            "Requirement already satisfied: python-dotenv in /usr/local/lib/python3.12/dist-packages (from eegdash) (1.1.1)\n",
            "Collecting s3fs (from eegdash)\n",
            "  Downloading s3fs-2025.9.0-py3-none-any.whl.metadata (1.4 kB)\n",
            "Requirement already satisfied: tqdm in /usr/local/lib/python3.12/dist-packages (from eegdash) (4.67.1)\n",
            "Collecting h5io>=0.2.4 (from eegdash)\n",
            "  Downloading h5io-0.2.5-py3-none-any.whl.metadata (4.0 kB)\n",
            "Collecting pymatreader (from eegdash)\n",
            "  Downloading pymatreader-1.1.0-py3-none-any.whl.metadata (1.6 kB)\n",
            "Collecting eeglabio (from eegdash)\n",
            "  Downloading eeglabio-0.1.2-py3-none-any.whl.metadata (3.0 kB)\n",
            "Requirement already satisfied: tabulate in /usr/local/lib/python3.12/dist-packages (from eegdash) (0.9.0)\n",
            "Requirement already satisfied: docstring_inheritance in /usr/local/lib/python3.12/dist-packages (from eegdash) (2.2.2)\n",
            "Requirement already satisfied: rich in /usr/local/lib/python3.12/dist-packages (from eegdash) (13.9.4)\n",
            "Requirement already satisfied: mne>=1.10.0 in /usr/local/lib/python3.12/dist-packages (from braindecode>=1.0->eegdash) (1.10.2)\n",
            "Requirement already satisfied: scipy in /usr/local/lib/python3.12/dist-packages (from braindecode>=1.0->eegdash) (1.16.2)\n",
            "Requirement already satisfied: matplotlib in /usr/local/lib/python3.12/dist-packages (from braindecode>=1.0->eegdash) (3.10.0)\n",
            "Requirement already satisfied: h5py in /usr/local/lib/python3.12/dist-packages (from braindecode>=1.0->eegdash) (3.15.0)\n",
            "Requirement already satisfied: skorch>=1.2.0 in /usr/local/lib/python3.12/dist-packages (from braindecode>=1.0->eegdash) (1.2.0)\n",
            "Requirement already satisfied: torch<3.0,>=2.0 in /usr/local/lib/python3.12/dist-packages (from braindecode>=1.0->eegdash) (2.8.0+cu126)\n",
            "Requirement already satisfied: torchaudio<3.0,>=2.0 in /usr/local/lib/python3.12/dist-packages (from braindecode>=1.0->eegdash) (2.8.0+cu126)\n",
            "Requirement already satisfied: einops in /usr/local/lib/python3.12/dist-packages (from braindecode>=1.0->eegdash) (0.8.1)\n",
            "Requirement already satisfied: joblib in /usr/local/lib/python3.12/dist-packages (from braindecode>=1.0->eegdash) (1.5.2)\n",
            "Requirement already satisfied: torchinfo~=1.8 in /usr/local/lib/python3.12/dist-packages (from braindecode>=1.0->eegdash) (1.8.0)\n",
            "Requirement already satisfied: wfdb in /usr/local/lib/python3.12/dist-packages (from braindecode>=1.0->eegdash) (4.3.0)\n",
            "Requirement already satisfied: linear_attention_transformer in /usr/local/lib/python3.12/dist-packages (from braindecode>=1.0->eegdash) (0.19.1)\n",
            "Requirement already satisfied: llvmlite<0.44,>=0.43.0dev0 in /usr/local/lib/python3.12/dist-packages (from numba->eegdash) (0.43.0)\n",
            "Requirement already satisfied: python-dateutil>=2.8.2 in /usr/local/lib/python3.12/dist-packages (from pandas->eegdash) (2.9.0.post0)\n",
            "Requirement already satisfied: pytz>=2020.1 in /usr/local/lib/python3.12/dist-packages (from pandas->eegdash) (2025.2)\n",
            "Requirement already satisfied: tzdata>=2022.7 in /usr/local/lib/python3.12/dist-packages (from pandas->eegdash) (2025.2)\n",
            "Collecting xmltodict (from pymatreader->eegdash)\n",
            "  Downloading xmltodict-1.0.2-py3-none-any.whl.metadata (15 kB)\n",
            "Collecting dnspython<3.0.0,>=1.16.0 (from pymongo->eegdash)\n",
            "  Downloading dnspython-2.8.0-py3-none-any.whl.metadata (5.7 kB)\n",
            "Requirement already satisfied: markdown-it-py>=2.2.0 in /usr/local/lib/python3.12/dist-packages (from rich->eegdash) (4.0.0)\n",
            "Requirement already satisfied: pygments<3.0.0,>=2.13.0 in /usr/local/lib/python3.12/dist-packages (from rich->eegdash) (2.19.2)\n",
            "Collecting aiobotocore<3.0.0,>=2.5.4 (from s3fs->eegdash)\n",
            "  Downloading aiobotocore-2.25.0-py3-none-any.whl.metadata (25 kB)\n",
            "Collecting fsspec==2025.9.0 (from s3fs->eegdash)\n",
            "  Downloading fsspec-2025.9.0-py3-none-any.whl.metadata (10 kB)\n",
            "Requirement already satisfied: aiohttp!=4.0.0a0,!=4.0.0a1 in /usr/local/lib/python3.12/dist-packages (from s3fs->eegdash) (3.13.0)\n",
            "Collecting aioitertools<1.0.0,>=0.5.1 (from aiobotocore<3.0.0,>=2.5.4->s3fs->eegdash)\n",
            "  Downloading aioitertools-0.12.0-py3-none-any.whl.metadata (3.8 kB)\n",
            "Collecting botocore<1.40.50,>=1.40.46 (from aiobotocore<3.0.0,>=2.5.4->s3fs->eegdash)\n",
            "  Downloading botocore-1.40.49-py3-none-any.whl.metadata (5.7 kB)\n",
            "Collecting jmespath<2.0.0,>=0.7.1 (from aiobotocore<3.0.0,>=2.5.4->s3fs->eegdash)\n",
            "  Downloading jmespath-1.0.1-py3-none-any.whl.metadata (7.6 kB)\n",
            "Requirement already satisfied: multidict<7.0.0,>=6.0.0 in /usr/local/lib/python3.12/dist-packages (from aiobotocore<3.0.0,>=2.5.4->s3fs->eegdash) (6.7.0)\n",
            "Requirement already satisfied: wrapt<2.0.0,>=1.10.10 in /usr/local/lib/python3.12/dist-packages (from aiobotocore<3.0.0,>=2.5.4->s3fs->eegdash) (1.17.3)\n",
            "Requirement already satisfied: aiohappyeyeballs>=2.5.0 in /usr/local/lib/python3.12/dist-packages (from aiohttp!=4.0.0a0,!=4.0.0a1->s3fs->eegdash) (2.6.1)\n",
            "Requirement already satisfied: aiosignal>=1.4.0 in /usr/local/lib/python3.12/dist-packages (from aiohttp!=4.0.0a0,!=4.0.0a1->s3fs->eegdash) (1.4.0)\n",
            "Requirement already satisfied: attrs>=17.3.0 in /usr/local/lib/python3.12/dist-packages (from aiohttp!=4.0.0a0,!=4.0.0a1->s3fs->eegdash) (25.4.0)\n",
            "Requirement already satisfied: frozenlist>=1.1.1 in /usr/local/lib/python3.12/dist-packages (from aiohttp!=4.0.0a0,!=4.0.0a1->s3fs->eegdash) (1.8.0)\n",
            "Requirement already satisfied: propcache>=0.2.0 in /usr/local/lib/python3.12/dist-packages (from aiohttp!=4.0.0a0,!=4.0.0a1->s3fs->eegdash) (0.4.1)\n",
            "Requirement already satisfied: yarl<2.0,>=1.17.0 in /usr/local/lib/python3.12/dist-packages (from aiohttp!=4.0.0a0,!=4.0.0a1->s3fs->eegdash) (1.22.0)\n",
            "Requirement already satisfied: mdurl~=0.1 in /usr/local/lib/python3.12/dist-packages (from markdown-it-py>=2.2.0->rich->eegdash) (0.1.2)\n",
            "Requirement already satisfied: decorator in /usr/local/lib/python3.12/dist-packages (from mne>=1.10.0->braindecode>=1.0->eegdash) (4.4.2)\n",
            "Requirement already satisfied: jinja2 in /usr/local/lib/python3.12/dist-packages (from mne>=1.10.0->braindecode>=1.0->eegdash) (3.1.6)\n",
            "Requirement already satisfied: lazy-loader>=0.3 in /usr/local/lib/python3.12/dist-packages (from mne>=1.10.0->braindecode>=1.0->eegdash) (0.4)\n",
            "Requirement already satisfied: packaging in /usr/local/lib/python3.12/dist-packages (from mne>=1.10.0->braindecode>=1.0->eegdash) (25.0)\n",
            "Requirement already satisfied: pooch>=1.5 in /usr/local/lib/python3.12/dist-packages (from mne>=1.10.0->braindecode>=1.0->eegdash) (1.8.2)\n",
            "Requirement already satisfied: contourpy>=1.0.1 in /usr/local/lib/python3.12/dist-packages (from matplotlib->braindecode>=1.0->eegdash) (1.3.3)\n",
            "Requirement already satisfied: cycler>=0.10 in /usr/local/lib/python3.12/dist-packages (from matplotlib->braindecode>=1.0->eegdash) (0.12.1)\n",
            "Requirement already satisfied: fonttools>=4.22.0 in /usr/local/lib/python3.12/dist-packages (from matplotlib->braindecode>=1.0->eegdash) (4.60.1)\n",
            "Requirement already satisfied: kiwisolver>=1.3.1 in /usr/local/lib/python3.12/dist-packages (from matplotlib->braindecode>=1.0->eegdash) (1.4.9)\n",
            "Requirement already satisfied: pillow>=8 in /usr/local/lib/python3.12/dist-packages (from matplotlib->braindecode>=1.0->eegdash) (11.3.0)\n",
            "Requirement already satisfied: pyparsing>=2.3.1 in /usr/local/lib/python3.12/dist-packages (from matplotlib->braindecode>=1.0->eegdash) (3.2.5)\n",
            "Requirement already satisfied: six>=1.5 in /usr/local/lib/python3.12/dist-packages (from python-dateutil>=2.8.2->pandas->eegdash) (1.17.0)\n",
            "Requirement already satisfied: scikit-learn>=0.22.0 in /usr/local/lib/python3.12/dist-packages (from skorch>=1.2.0->braindecode>=1.0->eegdash) (1.6.1)\n",
            "Requirement already satisfied: filelock in /usr/local/lib/python3.12/dist-packages (from torch<3.0,>=2.0->braindecode>=1.0->eegdash) (3.20.0)\n",
            "Requirement already satisfied: typing-extensions>=4.10.0 in /usr/local/lib/python3.12/dist-packages (from torch<3.0,>=2.0->braindecode>=1.0->eegdash) (4.15.0)\n",
            "Requirement already satisfied: setuptools in /usr/local/lib/python3.12/dist-packages (from torch<3.0,>=2.0->braindecode>=1.0->eegdash) (75.2.0)\n",
            "Requirement already satisfied: sympy>=1.13.3 in /usr/local/lib/python3.12/dist-packages (from torch<3.0,>=2.0->braindecode>=1.0->eegdash) (1.13.3)\n",
            "Requirement already satisfied: networkx in /usr/local/lib/python3.12/dist-packages (from torch<3.0,>=2.0->braindecode>=1.0->eegdash) (3.5)\n",
            "Requirement already satisfied: nvidia-cuda-nvrtc-cu12==12.6.77 in /usr/local/lib/python3.12/dist-packages (from torch<3.0,>=2.0->braindecode>=1.0->eegdash) (12.6.77)\n",
            "Requirement already satisfied: nvidia-cuda-runtime-cu12==12.6.77 in /usr/local/lib/python3.12/dist-packages (from torch<3.0,>=2.0->braindecode>=1.0->eegdash) (12.6.77)\n",
            "Requirement already satisfied: nvidia-cuda-cupti-cu12==12.6.80 in /usr/local/lib/python3.12/dist-packages (from torch<3.0,>=2.0->braindecode>=1.0->eegdash) (12.6.80)\n",
            "Requirement already satisfied: nvidia-cudnn-cu12==9.10.2.21 in /usr/local/lib/python3.12/dist-packages (from torch<3.0,>=2.0->braindecode>=1.0->eegdash) (9.10.2.21)\n",
            "Requirement already satisfied: nvidia-cublas-cu12==12.6.4.1 in /usr/local/lib/python3.12/dist-packages (from torch<3.0,>=2.0->braindecode>=1.0->eegdash) (12.6.4.1)\n",
            "Requirement already satisfied: nvidia-cufft-cu12==11.3.0.4 in /usr/local/lib/python3.12/dist-packages (from torch<3.0,>=2.0->braindecode>=1.0->eegdash) (11.3.0.4)\n",
            "Requirement already satisfied: nvidia-curand-cu12==10.3.7.77 in /usr/local/lib/python3.12/dist-packages (from torch<3.0,>=2.0->braindecode>=1.0->eegdash) (10.3.7.77)\n",
            "Requirement already satisfied: nvidia-cusolver-cu12==11.7.1.2 in /usr/local/lib/python3.12/dist-packages (from torch<3.0,>=2.0->braindecode>=1.0->eegdash) (11.7.1.2)\n",
            "Requirement already satisfied: nvidia-cusparse-cu12==12.5.4.2 in /usr/local/lib/python3.12/dist-packages (from torch<3.0,>=2.0->braindecode>=1.0->eegdash) (12.5.4.2)\n",
            "Requirement already satisfied: nvidia-cusparselt-cu12==0.7.1 in /usr/local/lib/python3.12/dist-packages (from torch<3.0,>=2.0->braindecode>=1.0->eegdash) (0.7.1)\n",
            "Requirement already satisfied: nvidia-nccl-cu12==2.27.3 in /usr/local/lib/python3.12/dist-packages (from torch<3.0,>=2.0->braindecode>=1.0->eegdash) (2.27.3)\n",
            "Requirement already satisfied: nvidia-nvtx-cu12==12.6.77 in /usr/local/lib/python3.12/dist-packages (from torch<3.0,>=2.0->braindecode>=1.0->eegdash) (12.6.77)\n",
            "Requirement already satisfied: nvidia-nvjitlink-cu12==12.6.85 in /usr/local/lib/python3.12/dist-packages (from torch<3.0,>=2.0->braindecode>=1.0->eegdash) (12.6.85)\n",
            "Requirement already satisfied: nvidia-cufile-cu12==1.11.1.6 in /usr/local/lib/python3.12/dist-packages (from torch<3.0,>=2.0->braindecode>=1.0->eegdash) (1.11.1.6)\n",
            "Requirement already satisfied: triton==3.4.0 in /usr/local/lib/python3.12/dist-packages (from torch<3.0,>=2.0->braindecode>=1.0->eegdash) (3.4.0)\n",
            "Requirement already satisfied: axial-positional-embedding in /usr/local/lib/python3.12/dist-packages (from linear_attention_transformer->braindecode>=1.0->eegdash) (0.3.12)\n",
            "Requirement already satisfied: linformer>=0.1.0 in /usr/local/lib/python3.12/dist-packages (from linear_attention_transformer->braindecode>=1.0->eegdash) (0.2.3)\n",
            "Requirement already satisfied: local-attention in /usr/local/lib/python3.12/dist-packages (from linear_attention_transformer->braindecode>=1.0->eegdash) (1.11.2)\n",
            "Requirement already satisfied: product-key-memory>=0.1.5 in /usr/local/lib/python3.12/dist-packages (from linear_attention_transformer->braindecode>=1.0->eegdash) (0.2.11)\n",
            "Requirement already satisfied: requests>=2.8.1 in /usr/local/lib/python3.12/dist-packages (from wfdb->braindecode>=1.0->eegdash) (2.32.4)\n",
            "Requirement already satisfied: soundfile>=0.10.0 in /usr/local/lib/python3.12/dist-packages (from wfdb->braindecode>=1.0->eegdash) (0.13.1)\n",
            "Requirement already satisfied: urllib3!=2.2.0,<3,>=1.25.4 in /usr/local/lib/python3.12/dist-packages (from botocore<1.40.50,>=1.40.46->aiobotocore<3.0.0,>=2.5.4->s3fs->eegdash) (2.5.0)\n",
            "Requirement already satisfied: platformdirs>=2.5.0 in /usr/local/lib/python3.12/dist-packages (from pooch>=1.5->mne>=1.10.0->braindecode>=1.0->eegdash) (4.5.0)\n",
            "Requirement already satisfied: colt5-attention>=0.10.14 in /usr/local/lib/python3.12/dist-packages (from product-key-memory>=0.1.5->linear_attention_transformer->braindecode>=1.0->eegdash) (0.11.1)\n",
            "Requirement already satisfied: charset_normalizer<4,>=2 in /usr/local/lib/python3.12/dist-packages (from requests>=2.8.1->wfdb->braindecode>=1.0->eegdash) (3.4.4)\n",
            "Requirement already satisfied: idna<4,>=2.5 in /usr/local/lib/python3.12/dist-packages (from requests>=2.8.1->wfdb->braindecode>=1.0->eegdash) (3.11)\n",
            "Requirement already satisfied: certifi>=2017.4.17 in /usr/local/lib/python3.12/dist-packages (from requests>=2.8.1->wfdb->braindecode>=1.0->eegdash) (2025.10.5)\n",
            "Requirement already satisfied: threadpoolctl>=3.1.0 in /usr/local/lib/python3.12/dist-packages (from scikit-learn>=0.22.0->skorch>=1.2.0->braindecode>=1.0->eegdash) (3.6.0)\n",
            "Requirement already satisfied: cffi>=1.0 in /usr/local/lib/python3.12/dist-packages (from soundfile>=0.10.0->wfdb->braindecode>=1.0->eegdash) (2.0.0)\n",
            "Requirement already satisfied: mpmath<1.4,>=1.1.0 in /usr/local/lib/python3.12/dist-packages (from sympy>=1.13.3->torch<3.0,>=2.0->braindecode>=1.0->eegdash) (1.3.0)\n",
            "Requirement already satisfied: MarkupSafe>=2.0 in /usr/local/lib/python3.12/dist-packages (from jinja2->mne>=1.10.0->braindecode>=1.0->eegdash) (3.0.3)\n",
            "Requirement already satisfied: hyper-connections>=0.1.8 in /usr/local/lib/python3.12/dist-packages (from local-attention->linear_attention_transformer->braindecode>=1.0->eegdash) (0.2.1)\n",
            "Requirement already satisfied: pycparser in /usr/local/lib/python3.12/dist-packages (from cffi>=1.0->soundfile>=0.10.0->wfdb->braindecode>=1.0->eegdash) (2.23)\n",
            "Downloading eegdash-0.4.0-py3-none-any.whl (83 kB)\n",
            "\u001b[2K   \u001b[90m━━━━━━━━━━━━━━━━━━━━━━━━━━━━━━━━━━━━━━━━\u001b[0m \u001b[32m83.6/83.6 kB\u001b[0m \u001b[31m3.8 MB/s\u001b[0m eta \u001b[36m0:00:00\u001b[0m\n",
            "\u001b[?25hDownloading h5io-0.2.5-py3-none-any.whl (17 kB)\n",
            "Downloading eeglabio-0.1.2-py3-none-any.whl (10 kB)\n",
            "Downloading pymatreader-1.1.0-py3-none-any.whl (9.5 kB)\n",
            "Downloading pymongo-4.15.3-cp312-cp312-manylinux2014_x86_64.manylinux_2_17_x86_64.manylinux_2_28_x86_64.whl (1.7 MB)\n",
            "\u001b[2K   \u001b[90m━━━━━━━━━━━━━━━━━━━━━━━━━━━━━━━━━━━━━━━━\u001b[0m \u001b[32m1.7/1.7 MB\u001b[0m \u001b[31m29.2 MB/s\u001b[0m eta \u001b[36m0:00:00\u001b[0m\n",
            "\u001b[?25hDownloading s3fs-2025.9.0-py3-none-any.whl (30 kB)\n",
            "Downloading fsspec-2025.9.0-py3-none-any.whl (199 kB)\n",
            "\u001b[2K   \u001b[90m━━━━━━━━━━━━━━━━━━━━━━━━━━━━━━━━━━━━━━━━\u001b[0m \u001b[32m199.3/199.3 kB\u001b[0m \u001b[31m21.3 MB/s\u001b[0m eta \u001b[36m0:00:00\u001b[0m\n",
            "\u001b[?25hDownloading aiobotocore-2.25.0-py3-none-any.whl (86 kB)\n",
            "\u001b[2K   \u001b[90m━━━━━━━━━━━━━━━━━━━━━━━━━━━━━━━━━━━━━━━━\u001b[0m \u001b[32m86.0/86.0 kB\u001b[0m \u001b[31m8.6 MB/s\u001b[0m eta \u001b[36m0:00:00\u001b[0m\n",
            "\u001b[?25hDownloading dnspython-2.8.0-py3-none-any.whl (331 kB)\n",
            "\u001b[2K   \u001b[90m━━━━━━━━━━━━━━━━━━━━━━━━━━━━━━━━━━━━━━━━\u001b[0m \u001b[32m331.1/331.1 kB\u001b[0m \u001b[31m25.0 MB/s\u001b[0m eta \u001b[36m0:00:00\u001b[0m\n",
            "\u001b[?25hDownloading xmltodict-1.0.2-py3-none-any.whl (13 kB)\n",
            "Downloading aioitertools-0.12.0-py3-none-any.whl (24 kB)\n",
            "Downloading botocore-1.40.49-py3-none-any.whl (14.1 MB)\n",
            "\u001b[2K   \u001b[90m━━━━━━━━━━━━━━━━━━━━━━━━━━━━━━━━━━━━━━━━\u001b[0m \u001b[32m14.1/14.1 MB\u001b[0m \u001b[31m82.4 MB/s\u001b[0m eta \u001b[36m0:00:00\u001b[0m\n",
            "\u001b[?25hDownloading jmespath-1.0.1-py3-none-any.whl (20 kB)\n",
            "Installing collected packages: xmltodict, jmespath, fsspec, dnspython, aioitertools, pymongo, pymatreader, h5io, eeglabio, botocore, aiobotocore, s3fs, eegdash\n",
            "  Attempting uninstall: fsspec\n",
            "    Found existing installation: fsspec 2025.3.0\n",
            "    Uninstalling fsspec-2025.3.0:\n",
            "      Successfully uninstalled fsspec-2025.3.0\n",
            "\u001b[31mERROR: pip's dependency resolver does not currently take into account all the packages that are installed. This behaviour is the source of the following dependency conflicts.\n",
            "gcsfs 2025.3.0 requires fsspec==2025.3.0, but you have fsspec 2025.9.0 which is incompatible.\n",
            "datasets 4.0.0 requires fsspec[http]<=2025.3.0,>=2023.1.0, but you have fsspec 2025.9.0 which is incompatible.\n",
            "dask-cudf-cu12 25.6.0 requires pandas<2.2.4dev0,>=2.0, but you have pandas 2.3.3 which is incompatible.\n",
            "cudf-cu12 25.6.0 requires pandas<2.2.4dev0,>=2.0, but you have pandas 2.3.3 which is incompatible.\u001b[0m\u001b[31m\n",
            "\u001b[0mSuccessfully installed aiobotocore-2.25.0 aioitertools-0.12.0 botocore-1.40.49 dnspython-2.8.0 eegdash-0.4.0 eeglabio-0.1.2 fsspec-2025.9.0 h5io-0.2.5 jmespath-1.0.1 pymatreader-1.1.0 pymongo-4.15.3 s3fs-2025.9.0 xmltodict-1.0.2\n"
          ]
        }
      ],
      "source": [
        "!pip install braindecode\n",
        "!pip install eegdash"
      ]
    },
    {
      "cell_type": "code",
      "execution_count": 2,
      "id": "fe229bbc",
      "metadata": {
        "tags": [
          "hide-input"
        ],
        "title": "Imports [code]",
        "id": "fe229bbc"
      },
      "outputs": [],
      "source": [
        "from pathlib import Path\n",
        "import math\n",
        "import os\n",
        "import random\n",
        "from joblib import Parallel, delayed\n",
        "\n",
        "import torch\n",
        "from torch.utils.data import DataLoader\n",
        "from torch import optim\n",
        "from torch.nn.functional import l1_loss\n",
        "from braindecode.preprocessing import create_fixed_length_windows\n",
        "from braindecode.datasets.base import EEGWindowsDataset, BaseConcatDataset, BaseDataset\n",
        "from braindecode.models import EEGNeX\n",
        "from eegdash import EEGChallengeDataset"
      ]
    },
    {
      "cell_type": "markdown",
      "id": "34b1cab3",
      "metadata": {
        "lines_to_next_cell": 2,
        "id": "34b1cab3"
      },
      "source": [
        "⚠️ **In case of colab, before starting, make sure you're on a GPU instance for faster training!** ⚠️\n",
        "\n",
        "> If running on Google Colab, please request a GPU runtime by clicking `Runtime/Change runtime type` in the top bar menu, then selecting 'T4 GPU' under 'Hardware accelerator'."
      ]
    },
    {
      "cell_type": "code",
      "execution_count": null,
      "id": "23282791",
      "metadata": {
        "tags": [
          "hide-input"
        ],
        "title": "Identify whether a CUDA-enabled GPU is available [code]",
        "id": "23282791"
      },
      "outputs": [],
      "source": [
        "device = \"cuda\" if torch.cuda.is_available() else \"cpu\"\n",
        "if device == \"cuda\":\n",
        "    msg = \"CUDA-enabled GPU found. Training should be faster.\"\n",
        "else:\n",
        "    msg = (\n",
        "        \"No GPU found. Training will be carried out on CPU, which might be \"\n",
        "        \"slower.\\n\\nIf running on Google Colab, you can request a GPU runtime by\"\n",
        "        \" clicking\\n`Runtime/Change runtime type` in the top bar menu, then \"\n",
        "        \"selecting 'T4 GPU'\\nunder 'Hardware accelerator'.\"\n",
        "    )\n",
        "print(msg)"
      ]
    },
    {
      "cell_type": "markdown",
      "id": "93eaa476",
      "metadata": {
        "id": "93eaa476"
      },
      "source": [
        "## 0. Understanding the externalizing factor regression task.\n",
        "\n",
        "The externalizing factor is a widely recognized construct in mental health research, representing a common underlying dimension of psychopathology across various disorders.\n",
        "Currently, the externalizing factor is often assessed using self-report questionnaires or clinician ratings, which can be subjective, prone to bias, and time-consuming.\n",
        "In the dataset of this challenge, the externalizing factor was assessed using the Child Behavior Checklist (CBCL) [McElroy et al., (2017)](https://doi.org/10.1111/jcpp.12849).\n",
        "\n",
        "The goal of Challenge 2 is to develop a model to predict the externalizing factor from EEG recordings.\n",
        "**The feasibility of using EEG data for this purpose is still an open question**.\n",
        "The solution may involve finding meaningful representations of the EEG data that correlate with the externalizing factor scores.\n",
        "The challenge encourages learning physiologically meaningful signal representations and discovery of reproducible biomarkers.\n",
        "If contestants are successful in this task, it could pave the way for more objective and efficient assessments of the externalizing factor in clinical settings."
      ]
    },
    {
      "cell_type": "markdown",
      "id": "20961bda",
      "metadata": {
        "id": "20961bda"
      },
      "source": [
        "## 1. Loading the data\n",
        "\n",
        "### A. Define local path and (down)load the data\n",
        "\n",
        "In this challenge 2 example, we load the EEG 2025 release using EEG Dash.\n",
        "\n",
        "> **Note:** in this example notebook, we load the contrast change detection task from one mini release only as an example. Naturally, you are encouraged to train your models on all complete releases, using data from all the tasks you deem relevant."
      ]
    },
    {
      "cell_type": "code",
      "execution_count": null,
      "id": "e6fc7a86",
      "metadata": {
        "lines_to_next_cell": 0,
        "id": "e6fc7a86"
      },
      "outputs": [],
      "source": [
        "# The first step is to define the cache folder!\n",
        "DATA_DIR = Path(\"~/mne_data/eeg2025_competition\")\n",
        "\n",
        "# Creating the path if it does not exist\n",
        "DATA_DIR.mkdir(parents=True, exist_ok=True)\n",
        "\n",
        "# We define the list of releases to load.\n",
        "# Here, only release 5 is loaded.\n",
        "release_list = [\"R5\"]\n",
        "\n",
        "all_datasets_list = [\n",
        "    EEGChallengeDataset(\n",
        "        release=release,\n",
        "        task=\"contrastChangeDetection\",\n",
        "        mini=True,\n",
        "        description_fields=[\n",
        "            \"subject\",\n",
        "            \"session\",\n",
        "            \"run\",\n",
        "            \"task\",\n",
        "            \"age\",\n",
        "            \"gender\",\n",
        "            \"sex\",\n",
        "            \"p_factor\",\n",
        "        ],\n",
        "        cache_dir=DATA_DIR,\n",
        "    )\n",
        "    for release in release_list\n",
        "]\n",
        "print(\"Datasets loaded\")\n",
        "sub_rm = [\"NDARWV769JM7\", \"NDARME789TD2\", \"NDARUA442ZVF\", \"NDARJP304NK1\",\n",
        "          \"NDARTY128YLU\", \"NDARDW550GU6\", \"NDARLD243KRE\", \"NDARUJ292JXV\", \"NDARBA381JGH\"]"
      ]
    },
    {
      "cell_type": "markdown",
      "id": "9abe7b12",
      "metadata": {
        "id": "9abe7b12"
      },
      "source": [
        "### B. Combine the datasets into a single one\n",
        "\n",
        "Here, we combine the datasets from the different releases into a single\n",
        "``BaseConcatDataset`` object."
      ]
    },
    {
      "cell_type": "code",
      "execution_count": null,
      "id": "53a02210",
      "metadata": {
        "id": "53a02210"
      },
      "outputs": [],
      "source": [
        "all_datasets = BaseConcatDataset(all_datasets_list)\n",
        "print(all_datasets.description)\n",
        "\n",
        "raws = Parallel(n_jobs=os.cpu_count())(\n",
        "    delayed(lambda d: d.raw)(d) for d in all_datasets.datasets\n",
        ")"
      ]
    },
    {
      "cell_type": "markdown",
      "id": "6b9732ec",
      "metadata": {
        "id": "6b9732ec"
      },
      "source": [
        "### C. Inspect your data\n",
        "\n",
        "We can check what is inside the dataset consuming the\n",
        "MNE-object inside the Braindecode dataset.\n",
        "\n",
        "The following snippet, if uncommented, will show the first 10 seconds of the raw EEG signal.\n",
        "We can also inspect the data further by looking at the events and annotations.\n",
        "We strongly recommend you to take a look into the details and check how the events are structured."
      ]
    },
    {
      "cell_type": "code",
      "execution_count": null,
      "id": "c17e1f21",
      "metadata": {
        "id": "c17e1f21"
      },
      "outputs": [],
      "source": [
        "# raw = all_datasets.datasets[0].raw  # mne.io.Raw object\n",
        "# print(raw.info)\n",
        "\n",
        "# raw.plot(duration=10, scalings=\"auto\", show=True)\n",
        "\n",
        "# print(raw.annotations)\n",
        "\n",
        "SFREQ = 100"
      ]
    },
    {
      "cell_type": "markdown",
      "id": "fcf9fa85",
      "metadata": {
        "lines_to_next_cell": 2,
        "id": "fcf9fa85"
      },
      "source": [
        "## 2. Wrap the data into a PyTorch-compatible dataset\n",
        "\n",
        "The class below defines a dataset wrapper that will extract 2-second windows,\n",
        "uniformly sampled over the whole signal. In addition, it will add useful information\n",
        "about the extracted windows, such as the externalizing factor, the subject or the task."
      ]
    },
    {
      "cell_type": "code",
      "execution_count": null,
      "id": "6307e02a",
      "metadata": {
        "id": "6307e02a"
      },
      "outputs": [],
      "source": [
        "class DatasetWrapper(BaseDataset):\n",
        "    def __init__(\n",
        "        self,\n",
        "        dataset: EEGWindowsDataset,\n",
        "        crop_size_samples: int,\n",
        "        target_name: str = \"externalizing\",\n",
        "        seed=None,\n",
        "    ):\n",
        "        self.dataset = dataset\n",
        "        self.crop_size_samples = crop_size_samples\n",
        "        self.target_name = target_name\n",
        "        self.rng = random.Random(seed)\n",
        "\n",
        "    def __len__(self):\n",
        "        return len(self.dataset)\n",
        "\n",
        "    def __getitem__(self, index):\n",
        "        X, _, crop_inds = self.dataset[index]\n",
        "\n",
        "        target = self.dataset.description[self.target_name]\n",
        "        target = float(target)\n",
        "\n",
        "        # Additional information:\n",
        "        infos = {\n",
        "            \"subject\": self.dataset.description[\"subject\"],\n",
        "            \"sex\": self.dataset.description[\"sex\"],\n",
        "            \"age\": float(self.dataset.description[\"age\"]),\n",
        "            \"task\": self.dataset.description[\"task\"],\n",
        "            \"session\": self.dataset.description.get(\"session\", None) or \"\",\n",
        "            \"run\": self.dataset.description.get(\"run\", None) or \"\",\n",
        "        }\n",
        "\n",
        "        # Randomly crop the signal to the desired length:\n",
        "        i_window_in_trial, i_start, i_stop = crop_inds\n",
        "        assert i_stop - i_start >= self.crop_size_samples, f\"{i_stop=} {i_start=}\"\n",
        "        start_offset = self.rng.randint(0, i_stop - i_start - self.crop_size_samples)\n",
        "        i_start = i_start + start_offset\n",
        "        i_stop = i_start + self.crop_size_samples\n",
        "        X = X[:, start_offset : start_offset + self.crop_size_samples]\n",
        "\n",
        "        return X, target, (i_window_in_trial, i_start, i_stop), infos"
      ]
    },
    {
      "cell_type": "markdown",
      "id": "05e577a0",
      "metadata": {
        "id": "05e577a0"
      },
      "source": [
        "We filter out certain recordings, create fixed length windows and finally make use of our `DatasetWrapper`."
      ]
    },
    {
      "cell_type": "code",
      "execution_count": null,
      "id": "75d67787",
      "metadata": {
        "lines_to_next_cell": 2,
        "id": "75d67787"
      },
      "outputs": [],
      "source": [
        "# Filter out recordings that are too short\n",
        "all_datasets = BaseConcatDataset(\n",
        "    [\n",
        "        ds\n",
        "        for ds in all_datasets.datasets\n",
        "        if not ds.description.subject in sub_rm\n",
        "        and ds.raw.n_times >= 4 * SFREQ\n",
        "        and len(ds.raw.ch_names) == 129\n",
        "        and not math.isnan(ds.description[\"p_factor\"])\n",
        "    ]\n",
        ")\n",
        "\n",
        "# Create 4-seconds windows with 2-seconds stride\n",
        "windows_ds = create_fixed_length_windows(\n",
        "    all_datasets,\n",
        "    window_size_samples=4 * SFREQ,\n",
        "    window_stride_samples=2 * SFREQ,\n",
        "    drop_last_window=True,\n",
        ")\n",
        "\n",
        "# Wrap each sub-dataset in the windows_ds\n",
        "windows_ds = BaseConcatDataset(\n",
        "    [DatasetWrapper(ds, crop_size_samples=2 * SFREQ) for ds in windows_ds.datasets]\n",
        ")"
      ]
    },
    {
      "cell_type": "markdown",
      "id": "2e7d4550",
      "metadata": {
        "id": "2e7d4550"
      },
      "source": [
        "## 3. Define, train and save a model\n",
        "\n",
        "Now we have our pytorch dataset necessary for the training!\n",
        "\n",
        "Below, we define a simple EEGNeX model from Braindecode.\n",
        "All the braindecode models expect the input to be of shape (batch_size, n_channels, n_times)\n",
        "and have a test coverage about the behavior of the model.\n",
        "However, you can use any pytorch model you want."
      ]
    },
    {
      "cell_type": "code",
      "execution_count": null,
      "id": "828c7260",
      "metadata": {
        "lines_to_next_cell": 2,
        "id": "828c7260"
      },
      "outputs": [],
      "source": [
        "# Initialize model\n",
        "model = EEGNeX(n_chans=129, n_outputs=1, n_times=2 * SFREQ).to(device)\n",
        "\n",
        "# Specify optimizer\n",
        "optimizer = optim.Adamax(params=model.parameters(), lr=0.002)\n",
        "\n",
        "print(model)"
      ]
    },
    {
      "cell_type": "markdown",
      "id": "60e54d05",
      "metadata": {
        "id": "60e54d05"
      },
      "source": [
        "Finally, we can train our model. Here we define a simple training loop using pure PyTorch.\n",
        "\n",
        "> In this example, we only train for a single epoch. Feel free to increase the number of epochs."
      ]
    },
    {
      "cell_type": "code",
      "execution_count": null,
      "id": "aeaaee24",
      "metadata": {
        "title": "[code]",
        "id": "aeaaee24"
      },
      "outputs": [],
      "source": [
        "# Create PyTorch Dataloader\n",
        "\n",
        "num_workers = 1  # We are using a single worker, but you can increase this for faster data loading\n",
        "dataloader = DataLoader(windows_ds, batch_size=128, shuffle=True, num_workers=num_workers)\n",
        "\n",
        "n_epochs = 1\n",
        "\n",
        "# Train model for 1 epoch\n",
        "for epoch in range(n_epochs):\n",
        "\n",
        "    for idx, batch in enumerate(dataloader):\n",
        "        # Reset gradients\n",
        "        optimizer.zero_grad()\n",
        "\n",
        "        # Unpack the batch\n",
        "        X, y, crop_inds, infos = batch\n",
        "        X = X.to(dtype=torch.float32, device=device)\n",
        "        y = y.to(dtype=torch.float32, device=device).unsqueeze(1)\n",
        "\n",
        "        # Forward pass\n",
        "        y_pred = model(X)\n",
        "\n",
        "        # Compute loss\n",
        "        loss = l1_loss(y_pred, y)\n",
        "        print(f\"Epoch {0} - step {idx}, loss: {loss.item()}\")\n",
        "\n",
        "        # Gradient backpropagation\n",
        "        loss.backward()\n",
        "        optimizer.step()\n",
        "\n",
        "# Finally, we can save the model for later use\n",
        "torch.save(model.state_dict(), \"weights_challenge_2.pt\")\n",
        "print(\"Model saved as 'weights_challenge_2.pt'\")"
      ]
    }
  ],
  "metadata": {
    "jupytext": {
      "cell_metadata_filter": "title,tags,-all",
      "main_language": "python",
      "notebook_metadata_filter": "-all"
    },
    "colab": {
      "provenance": []
    },
    "language_info": {
      "name": "python"
    },
    "kernelspec": {
      "name": "python3",
      "display_name": "Python 3"
    }
  },
  "nbformat": 4,
  "nbformat_minor": 5
}